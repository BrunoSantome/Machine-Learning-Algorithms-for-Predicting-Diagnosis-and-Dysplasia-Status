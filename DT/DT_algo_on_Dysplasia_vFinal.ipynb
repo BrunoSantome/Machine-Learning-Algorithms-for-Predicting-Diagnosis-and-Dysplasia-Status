{
  "nbformat": 4,
  "nbformat_minor": 0,
  "metadata": {
    "colab": {
      "name": "DT algo on Dysplasia -- vFinal.ipynb",
      "provenance": [],
      "collapsed_sections": []
    },
    "kernelspec": {
      "name": "python3",
      "display_name": "Python 3"
    }
  },
  "cells": [
    {
      "cell_type": "code",
      "metadata": {
        "colab": {
          "base_uri": "https://localhost:8080/"
        },
        "id": "HWVDXYb6734A",
        "outputId": "a7e10339-3c8a-4b60-ccf0-09d749c9ab2f"
      },
      "source": [
        "import pandas as pd\n",
        "from google.colab import drive\n",
        "drive.mount(\"/content/drive/\")\n",
        "myfile = \"/content/drive/My Drive/dataset.csv\""
      ],
      "execution_count": 134,
      "outputs": [
        {
          "output_type": "stream",
          "text": [
            "Drive already mounted at /content/drive/; to attempt to forcibly remount, call drive.mount(\"/content/drive/\", force_remount=True).\n"
          ],
          "name": "stdout"
        }
      ]
    },
    {
      "cell_type": "code",
      "metadata": {
        "colab": {
          "base_uri": "https://localhost:8080/",
          "height": 326
        },
        "id": "ViE9QhW18w5x",
        "outputId": "3b9221a0-cbd3-43e7-e2ff-1af13e066696"
      },
      "source": [
        "### CSV import\n",
        "df = pd.read_csv(myfile,sep=';')\n",
        "df = df.dropna() # drop NaN values\n",
        "df.head()"
      ],
      "execution_count": 135,
      "outputs": [
        {
          "output_type": "execute_result",
          "data": {
            "text/html": [
              "<div>\n",
              "<style scoped>\n",
              "    .dataframe tbody tr th:only-of-type {\n",
              "        vertical-align: middle;\n",
              "    }\n",
              "\n",
              "    .dataframe tbody tr th {\n",
              "        vertical-align: top;\n",
              "    }\n",
              "\n",
              "    .dataframe thead th {\n",
              "        text-align: right;\n",
              "    }\n",
              "</style>\n",
              "<table border=\"1\" class=\"dataframe\">\n",
              "  <thead>\n",
              "    <tr style=\"text-align: right;\">\n",
              "      <th></th>\n",
              "      <th>Elementary lesion</th>\n",
              "      <th>Color</th>\n",
              "      <th>Homogene</th>\n",
              "      <th>Well_Delimited</th>\n",
              "      <th>Reticulated</th>\n",
              "      <th>Bourgeonnant</th>\n",
              "      <th>Papillomatous</th>\n",
              "      <th>Age</th>\n",
              "      <th>Sex</th>\n",
              "      <th>Tobacco</th>\n",
              "      <th>Stupefies</th>\n",
              "      <th>Alcohol</th>\n",
              "      <th>Diagnosis</th>\n",
              "      <th>Dysplasia</th>\n",
              "    </tr>\n",
              "  </thead>\n",
              "  <tbody>\n",
              "    <tr>\n",
              "      <th>0</th>\n",
              "      <td>No loss of substance</td>\n",
              "      <td>White</td>\n",
              "      <td>No</td>\n",
              "      <td>Yes</td>\n",
              "      <td>No</td>\n",
              "      <td>No</td>\n",
              "      <td>No</td>\n",
              "      <td>73.0</td>\n",
              "      <td>F</td>\n",
              "      <td>0.0</td>\n",
              "      <td>No</td>\n",
              "      <td>No</td>\n",
              "      <td>LPB</td>\n",
              "      <td>No</td>\n",
              "    </tr>\n",
              "    <tr>\n",
              "      <th>1</th>\n",
              "      <td>No loss of substance</td>\n",
              "      <td>White</td>\n",
              "      <td>Yes</td>\n",
              "      <td>Yes</td>\n",
              "      <td>Yes</td>\n",
              "      <td>No</td>\n",
              "      <td>No</td>\n",
              "      <td>73.0</td>\n",
              "      <td>F</td>\n",
              "      <td>0.0</td>\n",
              "      <td>No</td>\n",
              "      <td>No</td>\n",
              "      <td>LPB</td>\n",
              "      <td>No</td>\n",
              "    </tr>\n",
              "    <tr>\n",
              "      <th>2</th>\n",
              "      <td>No loss of substance</td>\n",
              "      <td>White</td>\n",
              "      <td>Yes</td>\n",
              "      <td>Yes</td>\n",
              "      <td>Yes</td>\n",
              "      <td>No</td>\n",
              "      <td>No</td>\n",
              "      <td>73.0</td>\n",
              "      <td>F</td>\n",
              "      <td>0.0</td>\n",
              "      <td>No</td>\n",
              "      <td>No</td>\n",
              "      <td>LPB</td>\n",
              "      <td>No</td>\n",
              "    </tr>\n",
              "    <tr>\n",
              "      <th>3</th>\n",
              "      <td>No loss of substance</td>\n",
              "      <td>White</td>\n",
              "      <td>Yes</td>\n",
              "      <td>Yes</td>\n",
              "      <td>No</td>\n",
              "      <td>No</td>\n",
              "      <td>No</td>\n",
              "      <td>75.0</td>\n",
              "      <td>M</td>\n",
              "      <td>0.0</td>\n",
              "      <td>No</td>\n",
              "      <td>No</td>\n",
              "      <td>LEUCOKERATOSE</td>\n",
              "      <td>No</td>\n",
              "    </tr>\n",
              "    <tr>\n",
              "      <th>4</th>\n",
              "      <td>No loss of substance</td>\n",
              "      <td>White</td>\n",
              "      <td>Yes</td>\n",
              "      <td>Yes</td>\n",
              "      <td>No</td>\n",
              "      <td>No</td>\n",
              "      <td>No</td>\n",
              "      <td>75.0</td>\n",
              "      <td>M</td>\n",
              "      <td>0.0</td>\n",
              "      <td>No</td>\n",
              "      <td>No</td>\n",
              "      <td>LEUCOKERATOSE</td>\n",
              "      <td>No</td>\n",
              "    </tr>\n",
              "  </tbody>\n",
              "</table>\n",
              "</div>"
            ],
            "text/plain": [
              "      Elementary lesion  Color Homogene  ... Alcohol      Diagnosis Dysplasia\n",
              "0  No loss of substance  White       No  ...      No            LPB        No\n",
              "1  No loss of substance  White      Yes  ...      No            LPB        No\n",
              "2  No loss of substance  White      Yes  ...      No            LPB        No\n",
              "3  No loss of substance  White      Yes  ...      No  LEUCOKERATOSE        No\n",
              "4  No loss of substance  White      Yes  ...      No  LEUCOKERATOSE        No\n",
              "\n",
              "[5 rows x 14 columns]"
            ]
          },
          "metadata": {
            "tags": []
          },
          "execution_count": 135
        }
      ]
    },
    {
      "cell_type": "code",
      "metadata": {
        "colab": {
          "base_uri": "https://localhost:8080/"
        },
        "id": "Ot9igcd2yZUp",
        "outputId": "164b9241-4bf0-4977-fc6b-c25bdf7f7c08"
      },
      "source": [
        "### Cleaning margin values on Dysplasia columns\n",
        "df.drop(df.loc[df['Dysplasia']=='LANGUE'].index, inplace=True)\n",
        "df.drop(df.loc[df['Dysplasia']==' '].index, inplace=True)\n",
        "df.Dysplasia.unique() # Dysplasia eval values"
      ],
      "execution_count": 136,
      "outputs": [
        {
          "output_type": "execute_result",
          "data": {
            "text/plain": [
              "array(['No', 'Yes'], dtype=object)"
            ]
          },
          "metadata": {
            "tags": []
          },
          "execution_count": 136
        }
      ]
    },
    {
      "cell_type": "code",
      "metadata": {
        "colab": {
          "base_uri": "https://localhost:8080/"
        },
        "id": "1g80cRm_4EKb",
        "outputId": "27ea5f1b-3806-4d6b-e51c-5afd76be1ebb"
      },
      "source": [
        "### Occurrence of each value in \"Dysplasia\" and \"Diagnosis\" colums.\n",
        "nb_dis = df['Dysplasia'].value_counts()\n",
        "nb_diag = df['Diagnosis'].value_counts()[:5]\n",
        "print(f'Dyplasia values:\\n{nb_dis} \\n\\nDiagnosis values (top5):\\n{nb_diag}')"
      ],
      "execution_count": 137,
      "outputs": [
        {
          "output_type": "stream",
          "text": [
            "Dyplasia values:\n",
            "No     1989\n",
            "Yes      92\n",
            "Name: Dysplasia, dtype: int64 \n",
            "\n",
            "Diagnosis values (top5):\n",
            "LPB                       984\n",
            "MALADIE BULLEUSE          286\n",
            "LEUCOKERATOSE             133\n",
            "ACCROISSEMENT GINGIVAL    106\n",
            "APHTOSE                    51\n",
            "Name: Diagnosis, dtype: int64\n"
          ],
          "name": "stdout"
        }
      ]
    },
    {
      "cell_type": "code",
      "metadata": {
        "id": "ECz26J8P-Jpm",
        "colab": {
          "base_uri": "https://localhost:8080/",
          "height": 419
        },
        "outputId": "3486e5f4-7011-41f6-df4a-d9fe361a6e6b"
      },
      "source": [
        "### Pre-processing\n",
        "\n",
        "# Delete of columns we don't need\n",
        "cols = [i for i in range(3,12)]\n",
        "df = df.drop(df.columns[cols],axis=1)\n",
        "inputs = df.drop(['Dysplasia','Diagnosis'],axis='columns')\n",
        "\n",
        "# Target (Dysplasia) DataFrame creation\n",
        "target_dys = df['Dysplasia']\n",
        "\n",
        "# Target (Diagnosis) DataFrame creation\n",
        "target_diag = df['Diagnosis']\n",
        "\n",
        "# String encoding\n",
        "from sklearn.preprocessing import LabelEncoder\n",
        "el = LabelEncoder()\n",
        "color = LabelEncoder()\n",
        "homogene = LabelEncoder()\n",
        "\n",
        "inputs['Elementary_lesion_n'] = el.fit_transform(inputs['Elementary lesion'])\n",
        "inputs['Color_n'] = color.fit_transform(inputs['Color'])\n",
        "inputs['Homogene_n'] = homogene.fit_transform(inputs['Homogene'])\n",
        "\n",
        "inputs_n = inputs.drop(['Elementary lesion','Color','Homogene'],axis='columns')\n",
        "inputs_n"
      ],
      "execution_count": 138,
      "outputs": [
        {
          "output_type": "execute_result",
          "data": {
            "text/html": [
              "<div>\n",
              "<style scoped>\n",
              "    .dataframe tbody tr th:only-of-type {\n",
              "        vertical-align: middle;\n",
              "    }\n",
              "\n",
              "    .dataframe tbody tr th {\n",
              "        vertical-align: top;\n",
              "    }\n",
              "\n",
              "    .dataframe thead th {\n",
              "        text-align: right;\n",
              "    }\n",
              "</style>\n",
              "<table border=\"1\" class=\"dataframe\">\n",
              "  <thead>\n",
              "    <tr style=\"text-align: right;\">\n",
              "      <th></th>\n",
              "      <th>Elementary_lesion_n</th>\n",
              "      <th>Color_n</th>\n",
              "      <th>Homogene_n</th>\n",
              "    </tr>\n",
              "  </thead>\n",
              "  <tbody>\n",
              "    <tr>\n",
              "      <th>0</th>\n",
              "      <td>2</td>\n",
              "      <td>4</td>\n",
              "      <td>0</td>\n",
              "    </tr>\n",
              "    <tr>\n",
              "      <th>1</th>\n",
              "      <td>2</td>\n",
              "      <td>4</td>\n",
              "      <td>1</td>\n",
              "    </tr>\n",
              "    <tr>\n",
              "      <th>2</th>\n",
              "      <td>2</td>\n",
              "      <td>4</td>\n",
              "      <td>1</td>\n",
              "    </tr>\n",
              "    <tr>\n",
              "      <th>3</th>\n",
              "      <td>2</td>\n",
              "      <td>4</td>\n",
              "      <td>1</td>\n",
              "    </tr>\n",
              "    <tr>\n",
              "      <th>4</th>\n",
              "      <td>2</td>\n",
              "      <td>4</td>\n",
              "      <td>1</td>\n",
              "    </tr>\n",
              "    <tr>\n",
              "      <th>...</th>\n",
              "      <td>...</td>\n",
              "      <td>...</td>\n",
              "      <td>...</td>\n",
              "    </tr>\n",
              "    <tr>\n",
              "      <th>2357</th>\n",
              "      <td>2</td>\n",
              "      <td>3</td>\n",
              "      <td>0</td>\n",
              "    </tr>\n",
              "    <tr>\n",
              "      <th>2358</th>\n",
              "      <td>2</td>\n",
              "      <td>3</td>\n",
              "      <td>1</td>\n",
              "    </tr>\n",
              "    <tr>\n",
              "      <th>2359</th>\n",
              "      <td>2</td>\n",
              "      <td>3</td>\n",
              "      <td>1</td>\n",
              "    </tr>\n",
              "    <tr>\n",
              "      <th>2360</th>\n",
              "      <td>2</td>\n",
              "      <td>3</td>\n",
              "      <td>1</td>\n",
              "    </tr>\n",
              "    <tr>\n",
              "      <th>2361</th>\n",
              "      <td>2</td>\n",
              "      <td>3</td>\n",
              "      <td>1</td>\n",
              "    </tr>\n",
              "  </tbody>\n",
              "</table>\n",
              "<p>2081 rows × 3 columns</p>\n",
              "</div>"
            ],
            "text/plain": [
              "      Elementary_lesion_n  Color_n  Homogene_n\n",
              "0                       2        4           0\n",
              "1                       2        4           1\n",
              "2                       2        4           1\n",
              "3                       2        4           1\n",
              "4                       2        4           1\n",
              "...                   ...      ...         ...\n",
              "2357                    2        3           0\n",
              "2358                    2        3           1\n",
              "2359                    2        3           1\n",
              "2360                    2        3           1\n",
              "2361                    2        3           1\n",
              "\n",
              "[2081 rows x 3 columns]"
            ]
          },
          "metadata": {
            "tags": []
          },
          "execution_count": 138
        }
      ]
    },
    {
      "cell_type": "code",
      "metadata": {
        "colab": {
          "base_uri": "https://localhost:8080/"
        },
        "id": "wYFk4NfEDlPN",
        "outputId": "154b37ce-1a6e-4e5e-9f79-d30b2837fc00"
      },
      "source": [
        "### Model creation (Dysplasia)\n",
        "\n",
        "#----- Without training\n",
        "# Model\n",
        "from sklearn import tree\n",
        "model_dys = tree.DecisionTreeClassifier()\n",
        "model_dys.fit(inputs_n, target_dys)\n",
        "# Score\n",
        "score_dys = model_dys.score(inputs_n,target_dys)\n",
        "score_dys"
      ],
      "execution_count": 139,
      "outputs": [
        {
          "output_type": "execute_result",
          "data": {
            "text/plain": [
              "0.9634790965881788"
            ]
          },
          "metadata": {
            "tags": []
          },
          "execution_count": 139
        }
      ]
    },
    {
      "cell_type": "code",
      "metadata": {
        "colab": {
          "base_uri": "https://localhost:8080/"
        },
        "id": "CWF2OWgEzC2F",
        "outputId": "512611f0-c204-4047-e6fc-9739a292a683"
      },
      "source": [
        "### Model creation (Diagnosis)\n",
        "\n",
        "#----- Without training\n",
        "# Model\n",
        "from sklearn import tree\n",
        "model_diag = tree.DecisionTreeClassifier()\n",
        "model_diag.fit(inputs_n, target_diag)\n",
        "# Score\n",
        "score_diag = model_diag.score(inputs_n,target_diag)\n",
        "score_diag\n"
      ],
      "execution_count": 140,
      "outputs": [
        {
          "output_type": "execute_result",
          "data": {
            "text/plain": [
              "0.5723209995194618"
            ]
          },
          "metadata": {
            "tags": []
          },
          "execution_count": 140
        }
      ]
    },
    {
      "cell_type": "code",
      "metadata": {
        "colab": {
          "base_uri": "https://localhost:8080/"
        },
        "id": "-Wcw-y5AIqJO",
        "outputId": "71f19420-bfef-4767-efec-78ae731c7ebe"
      },
      "source": [
        "# Method that provide the string label of the encoded value, we pass the feature and the position\n",
        "def decoder(feature,position):\n",
        "  element = feature.inverse_transform([position])\n",
        "  print(element + ' => ' + str(position))\n",
        "\n",
        "# Give the values for each features we can inputs in the model\n",
        "features_encoded = [el,color,homogene]\n",
        "features_labels = ['Elementary lesion','Color','Homogene']\n",
        "\n",
        "for i in range(len(features_encoded)):\n",
        "  print(f'Feature: {features_labels[i]}')\n",
        "  for y in range(len(features_encoded[i].classes_)):\n",
        "    decoder(features_encoded[i],y)\n",
        "  print('\\n')"
      ],
      "execution_count": 141,
      "outputs": [
        {
          "output_type": "stream",
          "text": [
            "Feature: Elementary lesion\n",
            "['Bubble => 0']\n",
            "['No lesion => 1']\n",
            "['No loss of substance => 2']\n",
            "['With loss of substance => 3']\n",
            "['With volume augmentation => 4']\n",
            "\n",
            "\n",
            "Feature: Color\n",
            "['Mix (white and red) => 0']\n",
            "['Normal => 1']\n",
            "['Pigmented => 2']\n",
            "['Red => 3']\n",
            "['White => 4']\n",
            "\n",
            "\n",
            "Feature: Homogene\n",
            "['No => 0']\n",
            "['Yes => 1']\n",
            "\n",
            "\n"
          ],
          "name": "stdout"
        }
      ]
    },
    {
      "cell_type": "code",
      "metadata": {
        "colab": {
          "base_uri": "https://localhost:8080/"
        },
        "id": "7USYsyqZPwKs",
        "outputId": "30753485-bb38-4585-8e67-8e879be0f17d"
      },
      "source": [
        "### Prediction\n",
        "\n",
        "# The return will be the predection, depending on the values for each features we gave\n",
        "# We provide an array with encoded values(integer format), in this case, the values are: (X[0][2]:No loss of substance/ X[1][4]:White/ X[2][0]:No)\n",
        "\n",
        "prediction_dys = model_dys.predict([[2,4,0]])\n",
        "prediction_diag = model_diag.predict([[2,4,0]])\n",
        "prediction_dys,prediction_diag"
      ],
      "execution_count": 142,
      "outputs": [
        {
          "output_type": "execute_result",
          "data": {
            "text/plain": [
              "(array(['No'], dtype=object), array(['LPB'], dtype=object))"
            ]
          },
          "metadata": {
            "tags": []
          },
          "execution_count": 142
        }
      ]
    },
    {
      "cell_type": "code",
      "metadata": {
        "colab": {
          "base_uri": "https://localhost:8080/"
        },
        "id": "c7MbIqEhPqG2",
        "outputId": "1d650971-7ff1-4d7f-cfe2-c579736f51a2"
      },
      "source": [
        "### Model creation (Dysplasia)\n",
        "\n",
        "#----- With training\n",
        "#Model\n",
        "from sklearn.model_selection import train_test_split\n",
        "X_train, X_test, y_train, y_test = train_test_split(inputs_n,target_dys,test_size=0.2)\n",
        "model_dys_training = tree.DecisionTreeClassifier()\n",
        "model_dys_training.fit(X_train, y_train)\n",
        "#Score\n",
        "score = model_dys_training.score(X_test,y_test)\n",
        "score"
      ],
      "execution_count": 143,
      "outputs": [
        {
          "output_type": "execute_result",
          "data": {
            "text/plain": [
              "0.9592326139088729"
            ]
          },
          "metadata": {
            "tags": []
          },
          "execution_count": 143
        }
      ]
    },
    {
      "cell_type": "code",
      "metadata": {
        "colab": {
          "base_uri": "https://localhost:8080/"
        },
        "id": "YGJP2c_N5r2d",
        "outputId": "7c55a1ad-afb6-4827-f88a-027ddc628326"
      },
      "source": [
        "### Model creation (Diagnosis)\n",
        "\n",
        "#----- With training\n",
        "#Model\n",
        "from sklearn.model_selection import train_test_split\n",
        "X_train, X_test, y_train, y_test = train_test_split(inputs_n,target_diag,test_size=0.2)\n",
        "model_diag_training = tree.DecisionTreeClassifier()\n",
        "model_diag_training.fit(X_train, y_train)\n",
        "#Score\n",
        "score = model_diag_training.score(X_test,y_test)\n",
        "score"
      ],
      "execution_count": 144,
      "outputs": [
        {
          "output_type": "execute_result",
          "data": {
            "text/plain": [
              "0.5827338129496403"
            ]
          },
          "metadata": {
            "tags": []
          },
          "execution_count": 144
        }
      ]
    },
    {
      "cell_type": "code",
      "metadata": {
        "id": "1fgZQz7dfRBX",
        "colab": {
          "base_uri": "https://localhost:8080/",
          "height": 436
        },
        "outputId": "e300b0d1-f913-42e7-987f-3cf10440aa11"
      },
      "source": [
        "### Graphs\n",
        "\n",
        "import graphviz\n",
        "from sklearn.tree import export_graphviz\n",
        "\n",
        "# Dysplasia\n",
        "dot_data = export_graphviz(model_dys_training, out_file=None, impurity=False,max_depth=2)\n",
        "graph_dys = graphviz.Source(dot_data)\n",
        "graph_dys"
      ],
      "execution_count": 145,
      "outputs": [
        {
          "output_type": "execute_result",
          "data": {
            "text/plain": [
              "<graphviz.files.Source at 0x7f12acb6f810>"
            ],
            "image/svg+xml": "<?xml version=\"1.0\" encoding=\"UTF-8\" standalone=\"no\"?>\n<!DOCTYPE svg PUBLIC \"-//W3C//DTD SVG 1.1//EN\"\n \"http://www.w3.org/Graphics/SVG/1.1/DTD/svg11.dtd\">\n<!-- Generated by graphviz version 2.40.1 (20161225.0304)\n -->\n<!-- Title: Tree Pages: 1 -->\n<svg width=\"600pt\" height=\"311pt\"\n viewBox=\"0.00 0.00 600.00 311.00\" xmlns=\"http://www.w3.org/2000/svg\" xmlns:xlink=\"http://www.w3.org/1999/xlink\">\n<g id=\"graph0\" class=\"graph\" transform=\"scale(1 1) rotate(0) translate(4 307)\">\n<title>Tree</title>\n<polygon fill=\"#ffffff\" stroke=\"transparent\" points=\"-4,4 -4,-307 596,-307 596,4 -4,4\"/>\n<!-- 0 -->\n<g id=\"node1\" class=\"node\">\n<title>0</title>\n<polygon fill=\"none\" stroke=\"#000000\" points=\"356.5,-303 231.5,-303 231.5,-250 356.5,-250 356.5,-303\"/>\n<text text-anchor=\"middle\" x=\"294\" y=\"-287.8\" font-family=\"Times,serif\" font-size=\"14.00\" fill=\"#000000\">X[1] &lt;= 1.5</text>\n<text text-anchor=\"middle\" x=\"294\" y=\"-272.8\" font-family=\"Times,serif\" font-size=\"14.00\" fill=\"#000000\">samples = 1664</text>\n<text text-anchor=\"middle\" x=\"294\" y=\"-257.8\" font-family=\"Times,serif\" font-size=\"14.00\" fill=\"#000000\">value = [1593, 71]</text>\n</g>\n<!-- 1 -->\n<g id=\"node2\" class=\"node\">\n<title>1</title>\n<polygon fill=\"none\" stroke=\"#000000\" points=\"285.5,-214 168.5,-214 168.5,-161 285.5,-161 285.5,-214\"/>\n<text text-anchor=\"middle\" x=\"227\" y=\"-198.8\" font-family=\"Times,serif\" font-size=\"14.00\" fill=\"#000000\">X[0] &lt;= 3.5</text>\n<text text-anchor=\"middle\" x=\"227\" y=\"-183.8\" font-family=\"Times,serif\" font-size=\"14.00\" fill=\"#000000\">samples = 844</text>\n<text text-anchor=\"middle\" x=\"227\" y=\"-168.8\" font-family=\"Times,serif\" font-size=\"14.00\" fill=\"#000000\">value = [829, 15]</text>\n</g>\n<!-- 0&#45;&gt;1 -->\n<g id=\"edge1\" class=\"edge\">\n<title>0&#45;&gt;1</title>\n<path fill=\"none\" stroke=\"#000000\" d=\"M273.8978,-249.7971C267.4053,-241.1727 260.109,-231.4806 253.2404,-222.3566\"/>\n<polygon fill=\"#000000\" stroke=\"#000000\" points=\"255.8986,-220.0683 247.088,-214.1841 250.3062,-224.2784 255.8986,-220.0683\"/>\n<text text-anchor=\"middle\" x=\"243.5969\" y=\"-235.2391\" font-family=\"Times,serif\" font-size=\"14.00\" fill=\"#000000\">True</text>\n</g>\n<!-- 20 -->\n<g id=\"node9\" class=\"node\">\n<title>20</title>\n<polygon fill=\"none\" stroke=\"#000000\" points=\"420.5,-214 303.5,-214 303.5,-161 420.5,-161 420.5,-214\"/>\n<text text-anchor=\"middle\" x=\"362\" y=\"-198.8\" font-family=\"Times,serif\" font-size=\"14.00\" fill=\"#000000\">X[2] &lt;= 0.5</text>\n<text text-anchor=\"middle\" x=\"362\" y=\"-183.8\" font-family=\"Times,serif\" font-size=\"14.00\" fill=\"#000000\">samples = 820</text>\n<text text-anchor=\"middle\" x=\"362\" y=\"-168.8\" font-family=\"Times,serif\" font-size=\"14.00\" fill=\"#000000\">value = [764, 56]</text>\n</g>\n<!-- 0&#45;&gt;20 -->\n<g id=\"edge8\" class=\"edge\">\n<title>0&#45;&gt;20</title>\n<path fill=\"none\" stroke=\"#000000\" d=\"M314.4022,-249.7971C320.9916,-241.1727 328.3969,-231.4806 335.368,-222.3566\"/>\n<polygon fill=\"#000000\" stroke=\"#000000\" points=\"338.3221,-224.2551 341.6122,-214.1841 332.7598,-220.0053 338.3221,-224.2551\"/>\n<text text-anchor=\"middle\" x=\"344.9266\" y=\"-235.2634\" font-family=\"Times,serif\" font-size=\"14.00\" fill=\"#000000\">False</text>\n</g>\n<!-- 2 -->\n<g id=\"node3\" class=\"node\">\n<title>2</title>\n<polygon fill=\"none\" stroke=\"#000000\" points=\"154.5,-125 37.5,-125 37.5,-72 154.5,-72 154.5,-125\"/>\n<text text-anchor=\"middle\" x=\"96\" y=\"-109.8\" font-family=\"Times,serif\" font-size=\"14.00\" fill=\"#000000\">X[0] &lt;= 0.5</text>\n<text text-anchor=\"middle\" x=\"96\" y=\"-94.8\" font-family=\"Times,serif\" font-size=\"14.00\" fill=\"#000000\">samples = 717</text>\n<text text-anchor=\"middle\" x=\"96\" y=\"-79.8\" font-family=\"Times,serif\" font-size=\"14.00\" fill=\"#000000\">value = [707, 10]</text>\n</g>\n<!-- 1&#45;&gt;2 -->\n<g id=\"edge2\" class=\"edge\">\n<title>1&#45;&gt;2</title>\n<path fill=\"none\" stroke=\"#000000\" d=\"M187.6957,-160.7971C173.8356,-151.3807 158.1019,-140.6914 143.6288,-130.8585\"/>\n<polygon fill=\"#000000\" stroke=\"#000000\" points=\"145.5151,-127.9087 135.2766,-125.1841 141.5813,-133.6988 145.5151,-127.9087\"/>\n</g>\n<!-- 15 -->\n<g id=\"node6\" class=\"node\">\n<title>15</title>\n<polygon fill=\"none\" stroke=\"#000000\" points=\"283,-125 173,-125 173,-72 283,-72 283,-125\"/>\n<text text-anchor=\"middle\" x=\"228\" y=\"-109.8\" font-family=\"Times,serif\" font-size=\"14.00\" fill=\"#000000\">X[2] &lt;= 0.5</text>\n<text text-anchor=\"middle\" x=\"228\" y=\"-94.8\" font-family=\"Times,serif\" font-size=\"14.00\" fill=\"#000000\">samples = 127</text>\n<text text-anchor=\"middle\" x=\"228\" y=\"-79.8\" font-family=\"Times,serif\" font-size=\"14.00\" fill=\"#000000\">value = [122, 5]</text>\n</g>\n<!-- 1&#45;&gt;15 -->\n<g id=\"edge5\" class=\"edge\">\n<title>1&#45;&gt;15</title>\n<path fill=\"none\" stroke=\"#000000\" d=\"M227.3,-160.7971C227.39,-152.7887 227.4903,-143.8597 227.5863,-135.3198\"/>\n<polygon fill=\"#000000\" stroke=\"#000000\" points=\"231.0875,-135.2228 227.7002,-125.1841 224.0879,-135.1441 231.0875,-135.2228\"/>\n</g>\n<!-- 3 -->\n<g id=\"node4\" class=\"node\">\n<title>3</title>\n<polygon fill=\"none\" stroke=\"#000000\" points=\"54,-36 0,-36 0,0 54,0 54,-36\"/>\n<text text-anchor=\"middle\" x=\"27\" y=\"-14.3\" font-family=\"Times,serif\" font-size=\"14.00\" fill=\"#000000\">(...)</text>\n</g>\n<!-- 2&#45;&gt;3 -->\n<g id=\"edge3\" class=\"edge\">\n<title>2&#45;&gt;3</title>\n<path fill=\"none\" stroke=\"#000000\" d=\"M73.024,-71.6947C65.3401,-62.7302 56.7946,-52.7604 49.1732,-43.8687\"/>\n<polygon fill=\"#000000\" stroke=\"#000000\" points=\"51.6503,-41.3806 42.4849,-36.0658 46.3355,-45.9361 51.6503,-41.3806\"/>\n</g>\n<!-- 6 -->\n<g id=\"node5\" class=\"node\">\n<title>6</title>\n<polygon fill=\"none\" stroke=\"#000000\" points=\"126,-36 72,-36 72,0 126,0 126,-36\"/>\n<text text-anchor=\"middle\" x=\"99\" y=\"-14.3\" font-family=\"Times,serif\" font-size=\"14.00\" fill=\"#000000\">(...)</text>\n</g>\n<!-- 2&#45;&gt;6 -->\n<g id=\"edge4\" class=\"edge\">\n<title>2&#45;&gt;6</title>\n<path fill=\"none\" stroke=\"#000000\" d=\"M96.999,-71.6947C97.3058,-63.462 97.6442,-54.3814 97.954,-46.0667\"/>\n<polygon fill=\"#000000\" stroke=\"#000000\" points=\"101.4518,-46.1892 98.3267,-36.0658 94.4567,-45.9285 101.4518,-46.1892\"/>\n</g>\n<!-- 16 -->\n<g id=\"node7\" class=\"node\">\n<title>16</title>\n<polygon fill=\"none\" stroke=\"#000000\" points=\"217,-36 163,-36 163,0 217,0 217,-36\"/>\n<text text-anchor=\"middle\" x=\"190\" y=\"-14.3\" font-family=\"Times,serif\" font-size=\"14.00\" fill=\"#000000\">(...)</text>\n</g>\n<!-- 15&#45;&gt;16 -->\n<g id=\"edge6\" class=\"edge\">\n<title>15&#45;&gt;16</title>\n<path fill=\"none\" stroke=\"#000000\" d=\"M215.3466,-71.6947C211.3308,-63.1875 206.8876,-53.7751 202.8576,-45.2378\"/>\n<polygon fill=\"#000000\" stroke=\"#000000\" points=\"205.9619,-43.6148 198.5279,-36.0658 199.6317,-46.603 205.9619,-43.6148\"/>\n</g>\n<!-- 19 -->\n<g id=\"node8\" class=\"node\">\n<title>19</title>\n<polygon fill=\"none\" stroke=\"#000000\" points=\"289,-36 235,-36 235,0 289,0 289,-36\"/>\n<text text-anchor=\"middle\" x=\"262\" y=\"-14.3\" font-family=\"Times,serif\" font-size=\"14.00\" fill=\"#000000\">(...)</text>\n</g>\n<!-- 15&#45;&gt;19 -->\n<g id=\"edge7\" class=\"edge\">\n<title>15&#45;&gt;19</title>\n<path fill=\"none\" stroke=\"#000000\" d=\"M239.3215,-71.6947C242.8759,-63.279 246.8046,-53.9774 250.3794,-45.5135\"/>\n<polygon fill=\"#000000\" stroke=\"#000000\" points=\"253.7031,-46.6396 254.3697,-36.0658 247.2547,-43.916 253.7031,-46.6396\"/>\n</g>\n<!-- 21 -->\n<g id=\"node10\" class=\"node\">\n<title>21</title>\n<polygon fill=\"none\" stroke=\"#000000\" points=\"419.5,-125 302.5,-125 302.5,-72 419.5,-72 419.5,-125\"/>\n<text text-anchor=\"middle\" x=\"361\" y=\"-109.8\" font-family=\"Times,serif\" font-size=\"14.00\" fill=\"#000000\">X[0] &lt;= 3.5</text>\n<text text-anchor=\"middle\" x=\"361\" y=\"-94.8\" font-family=\"Times,serif\" font-size=\"14.00\" fill=\"#000000\">samples = 295</text>\n<text text-anchor=\"middle\" x=\"361\" y=\"-79.8\" font-family=\"Times,serif\" font-size=\"14.00\" fill=\"#000000\">value = [254, 41]</text>\n</g>\n<!-- 20&#45;&gt;21 -->\n<g id=\"edge9\" class=\"edge\">\n<title>20&#45;&gt;21</title>\n<path fill=\"none\" stroke=\"#000000\" d=\"M361.7,-160.7971C361.61,-152.7887 361.5097,-143.8597 361.4137,-135.3198\"/>\n<polygon fill=\"#000000\" stroke=\"#000000\" points=\"364.9121,-135.1441 361.2998,-125.1841 357.9125,-135.2228 364.9121,-135.1441\"/>\n</g>\n<!-- 38 -->\n<g id=\"node13\" class=\"node\">\n<title>38</title>\n<polygon fill=\"none\" stroke=\"#000000\" points=\"554.5,-125 437.5,-125 437.5,-72 554.5,-72 554.5,-125\"/>\n<text text-anchor=\"middle\" x=\"496\" y=\"-109.8\" font-family=\"Times,serif\" font-size=\"14.00\" fill=\"#000000\">X[1] &lt;= 3.5</text>\n<text text-anchor=\"middle\" x=\"496\" y=\"-94.8\" font-family=\"Times,serif\" font-size=\"14.00\" fill=\"#000000\">samples = 525</text>\n<text text-anchor=\"middle\" x=\"496\" y=\"-79.8\" font-family=\"Times,serif\" font-size=\"14.00\" fill=\"#000000\">value = [510, 15]</text>\n</g>\n<!-- 20&#45;&gt;38 -->\n<g id=\"edge12\" class=\"edge\">\n<title>20&#45;&gt;38</title>\n<path fill=\"none\" stroke=\"#000000\" d=\"M402.2044,-160.7971C416.3819,-151.3807 432.4759,-140.6914 447.2805,-130.8585\"/>\n<polygon fill=\"#000000\" stroke=\"#000000\" points=\"449.4303,-133.6323 455.824,-125.1841 445.5574,-127.8013 449.4303,-133.6323\"/>\n</g>\n<!-- 22 -->\n<g id=\"node11\" class=\"node\">\n<title>22</title>\n<polygon fill=\"none\" stroke=\"#000000\" points=\"371,-36 317,-36 317,0 371,0 371,-36\"/>\n<text text-anchor=\"middle\" x=\"344\" y=\"-14.3\" font-family=\"Times,serif\" font-size=\"14.00\" fill=\"#000000\">(...)</text>\n</g>\n<!-- 21&#45;&gt;22 -->\n<g id=\"edge10\" class=\"edge\">\n<title>21&#45;&gt;22</title>\n<path fill=\"none\" stroke=\"#000000\" d=\"M355.3392,-71.6947C353.6007,-63.462 351.683,-54.3814 349.9271,-46.0667\"/>\n<polygon fill=\"#000000\" stroke=\"#000000\" points=\"353.3059,-45.1268 347.8151,-36.0658 346.457,-46.5732 353.3059,-45.1268\"/>\n</g>\n<!-- 33 -->\n<g id=\"node12\" class=\"node\">\n<title>33</title>\n<polygon fill=\"none\" stroke=\"#000000\" points=\"443,-36 389,-36 389,0 443,0 443,-36\"/>\n<text text-anchor=\"middle\" x=\"416\" y=\"-14.3\" font-family=\"Times,serif\" font-size=\"14.00\" fill=\"#000000\">(...)</text>\n</g>\n<!-- 21&#45;&gt;33 -->\n<g id=\"edge11\" class=\"edge\">\n<title>21&#45;&gt;33</title>\n<path fill=\"none\" stroke=\"#000000\" d=\"M379.3142,-71.6947C385.314,-62.9131 391.9729,-53.1669 397.9529,-44.4144\"/>\n<polygon fill=\"#000000\" stroke=\"#000000\" points=\"400.9055,-46.2971 403.6569,-36.0658 395.1257,-42.3482 400.9055,-46.2971\"/>\n</g>\n<!-- 39 -->\n<g id=\"node14\" class=\"node\">\n<title>39</title>\n<polygon fill=\"none\" stroke=\"#000000\" points=\"520,-36 466,-36 466,0 520,0 520,-36\"/>\n<text text-anchor=\"middle\" x=\"493\" y=\"-14.3\" font-family=\"Times,serif\" font-size=\"14.00\" fill=\"#000000\">(...)</text>\n</g>\n<!-- 38&#45;&gt;39 -->\n<g id=\"edge13\" class=\"edge\">\n<title>38&#45;&gt;39</title>\n<path fill=\"none\" stroke=\"#000000\" d=\"M495.001,-71.6947C494.6942,-63.462 494.3558,-54.3814 494.046,-46.0667\"/>\n<polygon fill=\"#000000\" stroke=\"#000000\" points=\"497.5433,-45.9285 493.6733,-36.0658 490.5482,-46.1892 497.5433,-45.9285\"/>\n</g>\n<!-- 46 -->\n<g id=\"node15\" class=\"node\">\n<title>46</title>\n<polygon fill=\"none\" stroke=\"#000000\" points=\"592,-36 538,-36 538,0 592,0 592,-36\"/>\n<text text-anchor=\"middle\" x=\"565\" y=\"-14.3\" font-family=\"Times,serif\" font-size=\"14.00\" fill=\"#000000\">(...)</text>\n</g>\n<!-- 38&#45;&gt;46 -->\n<g id=\"edge14\" class=\"edge\">\n<title>38&#45;&gt;46</title>\n<path fill=\"none\" stroke=\"#000000\" d=\"M518.976,-71.6947C526.6599,-62.7302 535.2054,-52.7604 542.8268,-43.8687\"/>\n<polygon fill=\"#000000\" stroke=\"#000000\" points=\"545.6645,-45.9361 549.5151,-36.0658 540.3497,-41.3806 545.6645,-45.9361\"/>\n</g>\n</g>\n</svg>\n"
          },
          "metadata": {
            "tags": []
          },
          "execution_count": 145
        }
      ]
    },
    {
      "cell_type": "code",
      "metadata": {
        "colab": {
          "base_uri": "https://localhost:8080/",
          "height": 576
        },
        "id": "sMSdyKt97rsj",
        "outputId": "59914721-706a-4cda-91a2-61bdef7e82e3"
      },
      "source": [
        "# Diagnosis\n",
        "dot_data = export_graphviz(model_diag_training, out_file=None, impurity=False,max_depth=2)\n",
        "graph_diag = graphviz.Source(dot_data)\n",
        "graph_diag"
      ],
      "execution_count": 146,
      "outputs": [
        {
          "output_type": "execute_result",
          "data": {
            "text/plain": [
              "<graphviz.files.Source at 0x7f12acb5e510>"
            ],
            "image/svg+xml": "<?xml version=\"1.0\" encoding=\"UTF-8\" standalone=\"no\"?>\n<!DOCTYPE svg PUBLIC \"-//W3C//DTD SVG 1.1//EN\"\n \"http://www.w3.org/Graphics/SVG/1.1/DTD/svg11.dtd\">\n<!-- Generated by graphviz version 2.40.1 (20161225.0304)\n -->\n<!-- Title: Tree Pages: 1 -->\n<svg width=\"1206pt\" height=\"401pt\"\n viewBox=\"0.00 0.00 1206.00 401.00\" xmlns=\"http://www.w3.org/2000/svg\" xmlns:xlink=\"http://www.w3.org/1999/xlink\">\n<g id=\"graph0\" class=\"graph\" transform=\"scale(1 1) rotate(0) translate(4 397)\">\n<title>Tree</title>\n<polygon fill=\"#ffffff\" stroke=\"transparent\" points=\"-4,4 -4,-397 1202,-397 1202,4 -4,4\"/>\n<!-- 0 -->\n<g id=\"node1\" class=\"node\">\n<title>0</title>\n<polygon fill=\"none\" stroke=\"#000000\" points=\"750.5,-393 435.5,-393 435.5,-310 750.5,-310 750.5,-393\"/>\n<text text-anchor=\"middle\" x=\"593\" y=\"-377.8\" font-family=\"Times,serif\" font-size=\"14.00\" fill=\"#000000\">X[0] &lt;= 3.5</text>\n<text text-anchor=\"middle\" x=\"593\" y=\"-362.8\" font-family=\"Times,serif\" font-size=\"14.00\" fill=\"#000000\">samples = 1664</text>\n<text text-anchor=\"middle\" x=\"593\" y=\"-347.8\" font-family=\"Times,serif\" font-size=\"14.00\" fill=\"#000000\">value = [81, 40, 7, 3, 23, 5, 15, 23, 2, 8, 25, 23, 24</text>\n<text text-anchor=\"middle\" x=\"593\" y=\"-332.8\" font-family=\"Times,serif\" font-size=\"14.00\" fill=\"#000000\">12, 2, 22, 9, 8, 5, 13, 107, 784, 2, 238, 1, 8</text>\n<text text-anchor=\"middle\" x=\"593\" y=\"-317.8\" font-family=\"Times,serif\" font-size=\"14.00\" fill=\"#000000\">36, 3, 1, 4, 27, 1, 36, 3, 17, 9, 19, 10, 8]</text>\n</g>\n<!-- 1 -->\n<g id=\"node2\" class=\"node\">\n<title>1</title>\n<polygon fill=\"none\" stroke=\"#000000\" points=\"586,-274 286,-274 286,-191 586,-191 586,-274\"/>\n<text text-anchor=\"middle\" x=\"436\" y=\"-258.8\" font-family=\"Times,serif\" font-size=\"14.00\" fill=\"#000000\">X[0] &lt;= 1.5</text>\n<text text-anchor=\"middle\" x=\"436\" y=\"-243.8\" font-family=\"Times,serif\" font-size=\"14.00\" fill=\"#000000\">samples = 1471</text>\n<text text-anchor=\"middle\" x=\"436\" y=\"-228.8\" font-family=\"Times,serif\" font-size=\"14.00\" fill=\"#000000\">value = [8, 40, 7, 0, 18, 5, 0, 10, 2, 4, 25, 23, 19</text>\n<text text-anchor=\"middle\" x=\"436\" y=\"-213.8\" font-family=\"Times,serif\" font-size=\"14.00\" fill=\"#000000\">12, 0, 22, 9, 3, 5, 0, 106, 762, 0, 237, 0, 8</text>\n<text text-anchor=\"middle\" x=\"436\" y=\"-198.8\" font-family=\"Times,serif\" font-size=\"14.00\" fill=\"#000000\">36, 3, 1, 0, 17, 1, 33, 3, 16, 9, 14, 5, 8]</text>\n</g>\n<!-- 0&#45;&gt;1 -->\n<g id=\"edge1\" class=\"edge\">\n<title>0&#45;&gt;1</title>\n<path fill=\"none\" stroke=\"#000000\" d=\"M538.089,-309.8796C525.4206,-300.2774 511.8485,-289.9903 498.8705,-280.1534\"/>\n<polygon fill=\"#000000\" stroke=\"#000000\" points=\"500.9636,-277.3482 490.88,-274.0969 496.7352,-282.9268 500.9636,-277.3482\"/>\n<text text-anchor=\"middle\" x=\"494.2898\" y=\"-295.1633\" font-family=\"Times,serif\" font-size=\"14.00\" fill=\"#000000\">True</text>\n</g>\n<!-- 50 -->\n<g id=\"node9\" class=\"node\">\n<title>50</title>\n<polygon fill=\"none\" stroke=\"#000000\" points=\"897.5,-274 604.5,-274 604.5,-191 897.5,-191 897.5,-274\"/>\n<text text-anchor=\"middle\" x=\"751\" y=\"-258.8\" font-family=\"Times,serif\" font-size=\"14.00\" fill=\"#000000\">X[2] &lt;= 0.5</text>\n<text text-anchor=\"middle\" x=\"751\" y=\"-243.8\" font-family=\"Times,serif\" font-size=\"14.00\" fill=\"#000000\">samples = 193</text>\n<text text-anchor=\"middle\" x=\"751\" y=\"-228.8\" font-family=\"Times,serif\" font-size=\"14.00\" fill=\"#000000\">value = [73, 0, 0, 3, 5, 0, 15, 13, 0, 4, 0, 0, 5, 0</text>\n<text text-anchor=\"middle\" x=\"751\" y=\"-213.8\" font-family=\"Times,serif\" font-size=\"14.00\" fill=\"#000000\">2, 0, 0, 5, 0, 13, 1, 22, 2, 1, 1, 0, 0, 0</text>\n<text text-anchor=\"middle\" x=\"751\" y=\"-198.8\" font-family=\"Times,serif\" font-size=\"14.00\" fill=\"#000000\">0, 4, 10, 0, 3, 0, 1, 0, 5, 5, 0]</text>\n</g>\n<!-- 0&#45;&gt;50 -->\n<g id=\"edge8\" class=\"edge\">\n<title>0&#45;&gt;50</title>\n<path fill=\"none\" stroke=\"#000000\" d=\"M648.2607,-309.8796C661.0099,-300.2774 674.6683,-289.9903 687.7291,-280.1534\"/>\n<polygon fill=\"#000000\" stroke=\"#000000\" points=\"689.8883,-282.9089 695.7705,-274.0969 685.6769,-277.3174 689.8883,-282.9089\"/>\n<text text-anchor=\"middle\" x=\"692.285\" y=\"-295.1528\" font-family=\"Times,serif\" font-size=\"14.00\" fill=\"#000000\">False</text>\n</g>\n<!-- 2 -->\n<g id=\"node3\" class=\"node\">\n<title>2</title>\n<polygon fill=\"none\" stroke=\"#000000\" points=\"270,-155 0,-155 0,-72 270,-72 270,-155\"/>\n<text text-anchor=\"middle\" x=\"135\" y=\"-139.8\" font-family=\"Times,serif\" font-size=\"14.00\" fill=\"#000000\">X[1] &lt;= 2.5</text>\n<text text-anchor=\"middle\" x=\"135\" y=\"-124.8\" font-family=\"Times,serif\" font-size=\"14.00\" fill=\"#000000\">samples = 141</text>\n<text text-anchor=\"middle\" x=\"135\" y=\"-109.8\" font-family=\"Times,serif\" font-size=\"14.00\" fill=\"#000000\">value = [0, 7, 0, 0, 0, 4, 0, 0, 0, 0, 0, 0, 0, 0</text>\n<text text-anchor=\"middle\" x=\"135\" y=\"-94.8\" font-family=\"Times,serif\" font-size=\"14.00\" fill=\"#000000\">0, 0, 9, 0, 0, 0, 5, 24, 0, 45, 0, 6, 10, 3</text>\n<text text-anchor=\"middle\" x=\"135\" y=\"-79.8\" font-family=\"Times,serif\" font-size=\"14.00\" fill=\"#000000\">0, 0, 8, 0, 10, 1, 1, 2, 3, 0, 3]</text>\n</g>\n<!-- 1&#45;&gt;2 -->\n<g id=\"edge2\" class=\"edge\">\n<title>1&#45;&gt;2</title>\n<path fill=\"none\" stroke=\"#000000\" d=\"M330.7248,-190.8796C304.4893,-180.5074 276.2324,-169.3361 249.573,-158.7963\"/>\n<polygon fill=\"#000000\" stroke=\"#000000\" points=\"250.8022,-155.5187 240.2158,-155.0969 248.2285,-162.0284 250.8022,-155.5187\"/>\n</g>\n<!-- 17 -->\n<g id=\"node6\" class=\"node\">\n<title>17</title>\n<polygon fill=\"none\" stroke=\"#000000\" points=\"588,-155 288,-155 288,-72 588,-72 588,-155\"/>\n<text text-anchor=\"middle\" x=\"438\" y=\"-139.8\" font-family=\"Times,serif\" font-size=\"14.00\" fill=\"#000000\">X[0] &lt;= 2.5</text>\n<text text-anchor=\"middle\" x=\"438\" y=\"-124.8\" font-family=\"Times,serif\" font-size=\"14.00\" fill=\"#000000\">samples = 1330</text>\n<text text-anchor=\"middle\" x=\"438\" y=\"-109.8\" font-family=\"Times,serif\" font-size=\"14.00\" fill=\"#000000\">value = [8, 33, 7, 0, 18, 1, 0, 10, 2, 4, 25, 23, 19</text>\n<text text-anchor=\"middle\" x=\"438\" y=\"-94.8\" font-family=\"Times,serif\" font-size=\"14.00\" fill=\"#000000\">12, 0, 22, 0, 3, 5, 0, 101, 738, 0, 192, 0, 2</text>\n<text text-anchor=\"middle\" x=\"438\" y=\"-79.8\" font-family=\"Times,serif\" font-size=\"14.00\" fill=\"#000000\">26, 0, 1, 0, 9, 1, 23, 2, 15, 7, 11, 5, 5]</text>\n</g>\n<!-- 1&#45;&gt;17 -->\n<g id=\"edge5\" class=\"edge\">\n<title>1&#45;&gt;17</title>\n<path fill=\"none\" stroke=\"#000000\" d=\"M436.6995,-190.8796C436.8372,-182.6838 436.9834,-173.9891 437.126,-165.5013\"/>\n<polygon fill=\"#000000\" stroke=\"#000000\" points=\"440.6289,-165.3555 437.2975,-155.2981 433.6299,-165.2378 440.6289,-165.3555\"/>\n</g>\n<!-- 3 -->\n<g id=\"node4\" class=\"node\">\n<title>3</title>\n<polygon fill=\"none\" stroke=\"#000000\" points=\"126,-36 72,-36 72,0 126,0 126,-36\"/>\n<text text-anchor=\"middle\" x=\"99\" y=\"-14.3\" font-family=\"Times,serif\" font-size=\"14.00\" fill=\"#000000\">(...)</text>\n</g>\n<!-- 2&#45;&gt;3 -->\n<g id=\"edge3\" class=\"edge\">\n<title>2&#45;&gt;3</title>\n<path fill=\"none\" stroke=\"#000000\" d=\"M119.3146,-71.8901C115.9739,-63.0279 112.525,-53.8788 109.4386,-45.6913\"/>\n<polygon fill=\"#000000\" stroke=\"#000000\" points=\"112.6877,-44.3878 105.8853,-36.2651 106.1376,-46.8569 112.6877,-44.3878\"/>\n</g>\n<!-- 12 -->\n<g id=\"node5\" class=\"node\">\n<title>12</title>\n<polygon fill=\"none\" stroke=\"#000000\" points=\"198,-36 144,-36 144,0 198,0 198,-36\"/>\n<text text-anchor=\"middle\" x=\"171\" y=\"-14.3\" font-family=\"Times,serif\" font-size=\"14.00\" fill=\"#000000\">(...)</text>\n</g>\n<!-- 2&#45;&gt;12 -->\n<g id=\"edge4\" class=\"edge\">\n<title>2&#45;&gt;12</title>\n<path fill=\"none\" stroke=\"#000000\" d=\"M150.6854,-71.8901C154.0261,-63.0279 157.475,-53.8788 160.5614,-45.6913\"/>\n<polygon fill=\"#000000\" stroke=\"#000000\" points=\"163.8624,-46.8569 164.1147,-36.2651 157.3123,-44.3878 163.8624,-46.8569\"/>\n</g>\n<!-- 18 -->\n<g id=\"node7\" class=\"node\">\n<title>18</title>\n<polygon fill=\"none\" stroke=\"#000000\" points=\"429,-36 375,-36 375,0 429,0 429,-36\"/>\n<text text-anchor=\"middle\" x=\"402\" y=\"-14.3\" font-family=\"Times,serif\" font-size=\"14.00\" fill=\"#000000\">(...)</text>\n</g>\n<!-- 17&#45;&gt;18 -->\n<g id=\"edge6\" class=\"edge\">\n<title>17&#45;&gt;18</title>\n<path fill=\"none\" stroke=\"#000000\" d=\"M422.3146,-71.8901C418.9739,-63.0279 415.525,-53.8788 412.4386,-45.6913\"/>\n<polygon fill=\"#000000\" stroke=\"#000000\" points=\"415.6877,-44.3878 408.8853,-36.2651 409.1376,-46.8569 415.6877,-44.3878\"/>\n</g>\n<!-- 37 -->\n<g id=\"node8\" class=\"node\">\n<title>37</title>\n<polygon fill=\"none\" stroke=\"#000000\" points=\"501,-36 447,-36 447,0 501,0 501,-36\"/>\n<text text-anchor=\"middle\" x=\"474\" y=\"-14.3\" font-family=\"Times,serif\" font-size=\"14.00\" fill=\"#000000\">(...)</text>\n</g>\n<!-- 17&#45;&gt;37 -->\n<g id=\"edge7\" class=\"edge\">\n<title>17&#45;&gt;37</title>\n<path fill=\"none\" stroke=\"#000000\" d=\"M453.6854,-71.8901C457.0261,-63.0279 460.475,-53.8788 463.5614,-45.6913\"/>\n<polygon fill=\"#000000\" stroke=\"#000000\" points=\"466.8624,-46.8569 467.1147,-36.2651 460.3123,-44.3878 466.8624,-46.8569\"/>\n</g>\n<!-- 51 -->\n<g id=\"node10\" class=\"node\">\n<title>51</title>\n<polygon fill=\"none\" stroke=\"#000000\" points=\"888,-155 610,-155 610,-72 888,-72 888,-155\"/>\n<text text-anchor=\"middle\" x=\"749\" y=\"-139.8\" font-family=\"Times,serif\" font-size=\"14.00\" fill=\"#000000\">X[1] &lt;= 2.5</text>\n<text text-anchor=\"middle\" x=\"749\" y=\"-124.8\" font-family=\"Times,serif\" font-size=\"14.00\" fill=\"#000000\">samples = 71</text>\n<text text-anchor=\"middle\" x=\"749\" y=\"-109.8\" font-family=\"Times,serif\" font-size=\"14.00\" fill=\"#000000\">value = [12, 0, 0, 3, 5, 0, 0, 2, 0, 1, 0, 0, 0, 0</text>\n<text text-anchor=\"middle\" x=\"749\" y=\"-94.8\" font-family=\"Times,serif\" font-size=\"14.00\" fill=\"#000000\">2, 0, 0, 2, 0, 13, 1, 17, 0, 0, 0, 0, 0, 0</text>\n<text text-anchor=\"middle\" x=\"749\" y=\"-79.8\" font-family=\"Times,serif\" font-size=\"14.00\" fill=\"#000000\">0, 0, 8, 0, 0, 0, 0, 0, 1, 4, 0]</text>\n</g>\n<!-- 50&#45;&gt;51 -->\n<g id=\"edge9\" class=\"edge\">\n<title>50&#45;&gt;51</title>\n<path fill=\"none\" stroke=\"#000000\" d=\"M750.3005,-190.8796C750.1628,-182.6838 750.0166,-173.9891 749.874,-165.5013\"/>\n<polygon fill=\"#000000\" stroke=\"#000000\" points=\"753.3701,-165.2378 749.7025,-155.2981 746.3711,-165.3555 753.3701,-165.2378\"/>\n</g>\n<!-- 60 -->\n<g id=\"node13\" class=\"node\">\n<title>60</title>\n<polygon fill=\"none\" stroke=\"#000000\" points=\"1198,-155 906,-155 906,-72 1198,-72 1198,-155\"/>\n<text text-anchor=\"middle\" x=\"1052\" y=\"-139.8\" font-family=\"Times,serif\" font-size=\"14.00\" fill=\"#000000\">X[1] &lt;= 3.5</text>\n<text text-anchor=\"middle\" x=\"1052\" y=\"-124.8\" font-family=\"Times,serif\" font-size=\"14.00\" fill=\"#000000\">samples = 122</text>\n<text text-anchor=\"middle\" x=\"1052\" y=\"-109.8\" font-family=\"Times,serif\" font-size=\"14.00\" fill=\"#000000\">value = [61, 0, 0, 0, 0, 0, 15, 11, 0, 3, 0, 0, 5, 0</text>\n<text text-anchor=\"middle\" x=\"1052\" y=\"-94.8\" font-family=\"Times,serif\" font-size=\"14.00\" fill=\"#000000\">0, 0, 0, 3, 0, 0, 0, 5, 2, 1, 1, 0, 0, 0</text>\n<text text-anchor=\"middle\" x=\"1052\" y=\"-79.8\" font-family=\"Times,serif\" font-size=\"14.00\" fill=\"#000000\">0, 4, 2, 0, 3, 0, 1, 0, 4, 1, 0]</text>\n</g>\n<!-- 50&#45;&gt;60 -->\n<g id=\"edge12\" class=\"edge\">\n<title>50&#45;&gt;60</title>\n<path fill=\"none\" stroke=\"#000000\" d=\"M856.2752,-190.8796C882.5107,-180.5074 910.7676,-169.3361 937.427,-158.7963\"/>\n<polygon fill=\"#000000\" stroke=\"#000000\" points=\"938.7715,-162.0284 946.7842,-155.0969 936.1978,-155.5187 938.7715,-162.0284\"/>\n</g>\n<!-- 52 -->\n<g id=\"node11\" class=\"node\">\n<title>52</title>\n<polygon fill=\"none\" stroke=\"#000000\" points=\"740,-36 686,-36 686,0 740,0 740,-36\"/>\n<text text-anchor=\"middle\" x=\"713\" y=\"-14.3\" font-family=\"Times,serif\" font-size=\"14.00\" fill=\"#000000\">(...)</text>\n</g>\n<!-- 51&#45;&gt;52 -->\n<g id=\"edge10\" class=\"edge\">\n<title>51&#45;&gt;52</title>\n<path fill=\"none\" stroke=\"#000000\" d=\"M733.3146,-71.8901C729.9739,-63.0279 726.525,-53.8788 723.4386,-45.6913\"/>\n<polygon fill=\"#000000\" stroke=\"#000000\" points=\"726.6877,-44.3878 719.8853,-36.2651 720.1376,-46.8569 726.6877,-44.3878\"/>\n</g>\n<!-- 57 -->\n<g id=\"node12\" class=\"node\">\n<title>57</title>\n<polygon fill=\"none\" stroke=\"#000000\" points=\"812,-36 758,-36 758,0 812,0 812,-36\"/>\n<text text-anchor=\"middle\" x=\"785\" y=\"-14.3\" font-family=\"Times,serif\" font-size=\"14.00\" fill=\"#000000\">(...)</text>\n</g>\n<!-- 51&#45;&gt;57 -->\n<g id=\"edge11\" class=\"edge\">\n<title>51&#45;&gt;57</title>\n<path fill=\"none\" stroke=\"#000000\" d=\"M764.6854,-71.8901C768.0261,-63.0279 771.475,-53.8788 774.5614,-45.6913\"/>\n<polygon fill=\"#000000\" stroke=\"#000000\" points=\"777.8624,-46.8569 778.1147,-36.2651 771.3123,-44.3878 777.8624,-46.8569\"/>\n</g>\n<!-- 61 -->\n<g id=\"node14\" class=\"node\">\n<title>61</title>\n<polygon fill=\"none\" stroke=\"#000000\" points=\"1043,-36 989,-36 989,0 1043,0 1043,-36\"/>\n<text text-anchor=\"middle\" x=\"1016\" y=\"-14.3\" font-family=\"Times,serif\" font-size=\"14.00\" fill=\"#000000\">(...)</text>\n</g>\n<!-- 60&#45;&gt;61 -->\n<g id=\"edge13\" class=\"edge\">\n<title>60&#45;&gt;61</title>\n<path fill=\"none\" stroke=\"#000000\" d=\"M1036.3146,-71.8901C1032.9739,-63.0279 1029.525,-53.8788 1026.4386,-45.6913\"/>\n<polygon fill=\"#000000\" stroke=\"#000000\" points=\"1029.6877,-44.3878 1022.8853,-36.2651 1023.1376,-46.8569 1029.6877,-44.3878\"/>\n</g>\n<!-- 68 -->\n<g id=\"node15\" class=\"node\">\n<title>68</title>\n<polygon fill=\"none\" stroke=\"#000000\" points=\"1115,-36 1061,-36 1061,0 1115,0 1115,-36\"/>\n<text text-anchor=\"middle\" x=\"1088\" y=\"-14.3\" font-family=\"Times,serif\" font-size=\"14.00\" fill=\"#000000\">(...)</text>\n</g>\n<!-- 60&#45;&gt;68 -->\n<g id=\"edge14\" class=\"edge\">\n<title>60&#45;&gt;68</title>\n<path fill=\"none\" stroke=\"#000000\" d=\"M1067.6854,-71.8901C1071.0261,-63.0279 1074.475,-53.8788 1077.5614,-45.6913\"/>\n<polygon fill=\"#000000\" stroke=\"#000000\" points=\"1080.8624,-46.8569 1081.1147,-36.2651 1074.3123,-44.3878 1080.8624,-46.8569\"/>\n</g>\n</g>\n</svg>\n"
          },
          "metadata": {
            "tags": []
          },
          "execution_count": 146
        }
      ]
    }
  ]
}